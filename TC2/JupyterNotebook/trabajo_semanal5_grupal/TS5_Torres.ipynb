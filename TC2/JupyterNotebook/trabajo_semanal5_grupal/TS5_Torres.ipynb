{
 "cells": [
  {
   "cell_type": "code",
   "execution_count": 1,
   "id": "4a54ae0d",
   "metadata": {},
   "outputs": [],
   "source": [
    "import sympy as sp\n",
    "from sympy.abc import s\n",
    "from IPython.display import display, Math"
   ]
  },
  {
   "cell_type": "code",
   "execution_count": 10,
   "id": "b855b7c5",
   "metadata": {},
   "outputs": [
    {
     "data": {
      "text/plain": [
       "[(-1.25291271369709, 1.53489513407190, -0.715693540735825),\n",
       " (0.0, 0.750000000000000, -0.715693540735825),\n",
       " (0.0, 0.750000000000000, 0.715693540735825),\n",
       " (1.25291271369709, 1.53489513407190, 0.715693540735825),\n",
       " (-0.626456356848544 - 2.04385486302424*I,\n",
       "  -1.14244756703595 + 1.28038587141735*I,\n",
       "  0.715693540735825),\n",
       " (-0.626456356848544 + 2.04385486302424*I,\n",
       "  -1.14244756703595 - 1.28038587141735*I,\n",
       "  0.715693540735825),\n",
       " (0.626456356848544 - 2.04385486302424*I,\n",
       "  -1.14244756703595 - 1.28038587141735*I,\n",
       "  -0.715693540735825),\n",
       " (0.626456356848544 + 2.04385486302424*I,\n",
       "  -1.14244756703595 + 1.28038587141735*I,\n",
       "  -0.715693540735825)]"
      ]
     },
     "execution_count": 10,
     "metadata": {},
     "output_type": "execute_result"
    }
   ],
   "source": [
    "s, a, b, c = sp.symbols('s, a, b, c')\n",
    "ep = 0.349311522\n",
    "\n",
    "aa = sp.solve([c**2 - 1/(ep**2*16),\n",
    "               a**2 - 2*b + 3/2,\n",
    "               2*a*c - b**2 + 9/16],\n",
    "              [a, b, c])\n",
    "aa"
   ]
  }
 ],
 "metadata": {
  "kernelspec": {
   "display_name": "Python 3 (ipykernel)",
   "language": "python",
   "name": "python3"
  },
  "language_info": {
   "codemirror_mode": {
    "name": "ipython",
    "version": 3
   },
   "file_extension": ".py",
   "mimetype": "text/x-python",
   "name": "python",
   "nbconvert_exporter": "python",
   "pygments_lexer": "ipython3",
   "version": "3.10.6"
  }
 },
 "nbformat": 4,
 "nbformat_minor": 5
}
