{
 "cells": [
  {
   "cell_type": "code",
   "execution_count": 1,
   "id": "4938301c",
   "metadata": {},
   "outputs": [],
   "source": [
    "import sympy as sp\n",
    "from sympy.abc import s\n",
    "from IPython.display import display, Math"
   ]
  },
  {
   "cell_type": "code",
   "execution_count": 9,
   "id": "de2dd201",
   "metadata": {},
   "outputs": [
    {
     "data": {
      "text/plain": [
       "[(-2.15015343923909, 3.06157990613585, -2.04887041102815),\n",
       " (0.0, 0.750000000000000, -2.04887041102815),\n",
       " (0.0, 0.750000000000000, 2.04887041102815),\n",
       " (2.15015343923909, 3.06157990613585, 2.04887041102815),\n",
       " (-1.07507671961955 - 2.54310240832016*I,\n",
       "  -1.90578995306793 + 2.7340301947934*I,\n",
       "  2.04887041102815),\n",
       " (-1.07507671961955 + 2.54310240832016*I,\n",
       "  -1.90578995306793 - 2.7340301947934*I,\n",
       "  2.04887041102815),\n",
       " (1.07507671961955 - 2.54310240832016*I,\n",
       "  -1.90578995306793 - 2.7340301947934*I,\n",
       "  -2.04887041102815),\n",
       " (1.07507671961955 + 2.54310240832016*I,\n",
       "  -1.90578995306793 + 2.7340301947934*I,\n",
       "  -2.04887041102815)]"
      ]
     },
     "execution_count": 9,
     "metadata": {},
     "output_type": "execute_result"
    }
   ],
   "source": [
    "s, a, b, c = sp.symbols('s, a, b, c')\n",
    "ep = 0.122018454\n",
    "\n",
    "aa = sp.solve([c**2 - 1/(ep**2*16),\n",
    "               a**2 - 2*b + 3/2,\n",
    "               2*a*c - b**2 + 9/16],\n",
    "              [a, b, c])\n",
    "aa"
   ]
  }
 ],
 "metadata": {
  "kernelspec": {
   "display_name": "Python 3 (ipykernel)",
   "language": "python",
   "name": "python3"
  },
  "language_info": {
   "codemirror_mode": {
    "name": "ipython",
    "version": 3
   },
   "file_extension": ".py",
   "mimetype": "text/x-python",
   "name": "python",
   "nbconvert_exporter": "python",
   "pygments_lexer": "ipython3",
   "version": "3.10.6"
  }
 },
 "nbformat": 4,
 "nbformat_minor": 5
}
