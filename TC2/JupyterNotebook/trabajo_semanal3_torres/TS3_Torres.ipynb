{
 "cells": [
  {
   "cell_type": "markdown",
   "id": "ab2736dd",
   "metadata": {},
   "source": [
    "<img src=\"./logo_UTN.svg\" align=\"right\" width=\"250\" /> \n",
    "\n",
    "#### Teoría de Circuitos II\n",
    "\n",
    "#  Trabajo semanal 3\n",
    "#### Autor: Torres Alejandro\n",
    "#### Legajo: 141884-1"
   ]
  },
  {
   "cell_type": "markdown",
   "id": "ca9e2c62",
   "metadata": {},
   "source": [
    "## Consigna\n",
    "<img src=\"./consigna.png\" align=\"left\" width=\"550\" /> "
   ]
  },
  {
   "cell_type": "markdown",
   "id": "2f189486",
   "metadata": {},
   "source": [
    "\n",
    "+ Obtener la transferencia para máxima planicidad en la banda de paso utilizando los conceptos de partes de función. \n",
    "    **Recordar que**:\n",
    "        $|T(jω)|2=T(jω)⋅T(−jω)=T(s)⋅T(−s)|s=jω$\n",
    "        \n",
    "\n",
    "+ Obtener el diagrama de polos y ceros, y un bosquejo de la respuesta en frecuencia.\n",
    "\n",
    "+ Implementar el circuito normalizado con estructuras pasivas separadas mediante buffers.\n",
    "\n",
    "+ Obtenga el circuito que cumpla con la plantilla requerida si dispone de capacitores de 100nf.\n",
    "\n",
    "+ Proponga una red que se comporte igual a la hallada en 4) pero con resistores, capacitores y opamps.\n",
    "\n",
    "**Bonus**:\n",
    "\n",
    "+ +10 💎 Proponer un planteo alternativo a 1) usando la ωButter(ver Schaumann 6.4)\n",
    "+ +10  ⚽️ Simulación numérica y circuital.\n",
    "+ +10  🍺 Presentación en jupyter notebook"
   ]
  },
  {
   "cell_type": "markdown",
   "id": "ccfa558f",
   "metadata": {},
   "source": [
    "## Desarrollo manuscrito"
   ]
  },
  {
   "cell_type": "code",
   "execution_count": 1,
   "id": "c22bdd56",
   "metadata": {},
   "outputs": [
    {
     "data": {
      "text/html": [
       "\n",
       "        <iframe\n",
       "            width=\"1000\"\n",
       "            height=\"1000\"\n",
       "            src=\"./ts3_torres.pdf\"\n",
       "            frameborder=\"0\"\n",
       "            allowfullscreen\n",
       "            \n",
       "        ></iframe>\n",
       "        "
      ],
      "text/plain": [
       "<IPython.lib.display.IFrame at 0x7f52c5b1d750>"
      ]
     },
     "execution_count": 1,
     "metadata": {},
     "output_type": "execute_result"
    }
   ],
   "source": [
    "from IPython.display import IFrame\n",
    "IFrame(\"./ts3_torres.pdf\", width=1000, height=1000)"
   ]
  },
  {
   "cell_type": "markdown",
   "id": "13e20a77",
   "metadata": {},
   "source": [
    "## Simulación simbólica"
   ]
  },
  {
   "cell_type": "code",
   "execution_count": 2,
   "id": "47fc4954",
   "metadata": {},
   "outputs": [],
   "source": [
    "import sympy as sp\n",
    "from sympy.abc import s\n",
    "from IPython.display import display, Math"
   ]
  },
  {
   "cell_type": "code",
   "execution_count": 3,
   "id": "bf2a4af7",
   "metadata": {},
   "outputs": [],
   "source": [
    "s, ep, a, b, c = sp.symbols('s, ep, a, b, c')"
   ]
  },
  {
   "cell_type": "code",
   "execution_count": 4,
   "id": "7baf1f97",
   "metadata": {},
   "outputs": [
    {
     "data": {
      "text/latex": [
       "$\\displaystyle \\frac{1}{ep^{2} \\left(s^{6} + \\frac{1}{ep^{2}}\\right)}$"
      ],
      "text/plain": [
       "1/(ep**2*(s**6 + ep**(-2)))"
      ]
     },
     "execution_count": 4,
     "metadata": {},
     "output_type": "execute_result"
    }
   ],
   "source": [
    "#Módulos de la transferencia al cuadrado, función aproximación.\n",
    "mtsc = 1/ep**2/(1/ep**2+s**6)\n",
    "mtsc"
   ]
  },
  {
   "cell_type": "code",
   "execution_count": 5,
   "id": "b1e79825",
   "metadata": {},
   "outputs": [],
   "source": [
    "Ts = 1/(s**3+a*s**2+b*s+c) \n",
    "Tsc= 1/(-s**3+a*s**2-b*s+c)"
   ]
  },
  {
   "cell_type": "code",
   "execution_count": 6,
   "id": "fe2ba44f",
   "metadata": {},
   "outputs": [
    {
     "data": {
      "text/latex": [
       "$\\displaystyle \\frac{1}{\\left(a s^{2} - b s + c - s^{3}\\right) \\left(a s^{2} + b s + c + s^{3}\\right)}$"
      ],
      "text/plain": [
       "1/((a*s**2 - b*s + c - s**3)*(a*s**2 + b*s + c + s**3))"
      ]
     },
     "execution_count": 6,
     "metadata": {},
     "output_type": "execute_result"
    }
   ],
   "source": [
    "poli = sp.Mul(Ts,Tsc)\n",
    "poli"
   ]
  },
  {
   "cell_type": "code",
   "execution_count": 7,
   "id": "1a457947",
   "metadata": {},
   "outputs": [
    {
     "data": {
      "text/latex": [
       "$\\displaystyle \\frac{1}{a^{2} s^{4} + 2 a c s^{2} - b^{2} s^{2} - 2 b s^{4} + c^{2} - s^{6}}$"
      ],
      "text/plain": [
       "1/(a**2*s**4 + 2*a*c*s**2 - b**2*s**2 - 2*b*s**4 + c**2 - s**6)"
      ]
     },
     "execution_count": 7,
     "metadata": {},
     "output_type": "execute_result"
    }
   ],
   "source": [
    "poli=sp.expand(poli)\n",
    "poli"
   ]
  },
  {
   "cell_type": "code",
   "execution_count": 8,
   "id": "43b03253",
   "metadata": {},
   "outputs": [
    {
     "data": {
      "text/plain": [
       "[(0, 0, -1/ep),\n",
       " (0, 0, 1/ep),\n",
       " (-2*ep*(ep**(-2))**(2/3), 2*(ep**(-2))**(1/3), -1/ep),\n",
       " (2*ep*(ep**(-2))**(2/3), 2*(ep**(-2))**(1/3), 1/ep),\n",
       " (ep*(-1 + sqrt(3)*I)*(ep**(-2))**(2/3),\n",
       "  (-1 - sqrt(3)*I)*(ep**(-2))**(1/3),\n",
       "  1/ep),\n",
       " (ep*(1 - sqrt(3)*I)*(ep**(-2))**(2/3),\n",
       "  (-1 - sqrt(3)*I)*(ep**(-2))**(1/3),\n",
       "  -1/ep),\n",
       " (-ep*(1 + sqrt(3)*I)*(ep**(-2))**(2/3),\n",
       "  (-1 + sqrt(3)*I)*(ep**(-2))**(1/3),\n",
       "  1/ep),\n",
       " (ep*(1 + sqrt(3)*I)*(ep**(-2))**(2/3),\n",
       "  (-1 + sqrt(3)*I)*(ep**(-2))**(1/3),\n",
       "  -1/ep)]"
      ]
     },
     "execution_count": 8,
     "metadata": {},
     "output_type": "execute_result"
    }
   ],
   "source": [
    "aa = sp.solve([  \n",
    "                c**2-1/ep**2,\n",
    "                2*a*c-b**2,\n",
    "                a**2-2*b\n",
    "                ], \n",
    "                [a, b, c])\n",
    "\n",
    "aa"
   ]
  },
  {
   "cell_type": "code",
   "execution_count": 9,
   "id": "30c23922",
   "metadata": {},
   "outputs": [
    {
     "data": {
      "text/latex": [
       "$\\displaystyle 2 ep s^{2} \\left(\\frac{1}{ep^{2}}\\right)^{\\frac{2}{3}} + s^{3} + 2 s \\sqrt[3]{\\frac{1}{ep^{2}}} + \\frac{1}{ep}$"
      ],
      "text/plain": [
       "2*ep*s**2*(ep**(-2))**(2/3) + s**3 + 2*s*(ep**(-2))**(1/3) + 1/ep"
      ]
     },
     "execution_count": 9,
     "metadata": {},
     "output_type": "execute_result"
    }
   ],
   "source": [
    "polynomial = s**3 + aa[3][0]*s**2 + aa[3][1]*s + aa[3][2]\n",
    "polynomial"
   ]
  },
  {
   "cell_type": "code",
   "execution_count": 10,
   "id": "7714c3b1",
   "metadata": {},
   "outputs": [
    {
     "data": {
      "text/latex": [
       "$\\displaystyle \\frac{2}{s^{3} + 2 \\cdot \\sqrt[3]{2} s^{2} + 2 \\cdot 2^{\\frac{2}{3}} s + 2}$"
      ],
      "text/plain": [
       "2/(s**3 + 2*2**(1/3)*s**2 + 2*2**(2/3)*s + 2)"
      ]
     },
     "execution_count": 10,
     "metadata": {},
     "output_type": "execute_result"
    }
   ],
   "source": [
    "polynomial = aa[3][2]/polynomial\n",
    "polynomial = polynomial.subs(1/ep, 2)\n",
    "polynomial"
   ]
  },
  {
   "cell_type": "markdown",
   "id": "a338157c",
   "metadata": {},
   "source": [
    "## Simulación en python"
   ]
  },
  {
   "cell_type": "code",
   "execution_count": 11,
   "id": "e8a9db0c",
   "metadata": {},
   "outputs": [],
   "source": [
    "# módulos numéricos y de funciones científicas\n",
    "import numpy as np\n",
    "from scipy import signal as sig\n",
    "\n",
    "# PyTC2: La librería para TC2\n",
    "from pytc2.sistemas_lineales import bodePlot, pzmap, GroupDelay, analyze_sys"
   ]
  },
  {
   "cell_type": "code",
   "execution_count": 12,
   "id": "0b2680ab",
   "metadata": {},
   "outputs": [],
   "source": [
    "import matplotlib as mpl\n",
    "from matplotlib import pyplot as plt\n",
    "#%%  Inicialización de librerías\n",
    "\n",
    "plt.figure(1)\n",
    "plt.close(1)\n",
    "\n",
    "fig_sz_x = 13\n",
    "fig_sz_y = 7\n",
    "fig_dpi = 80 # dpi\n",
    "fig_font_size = 16\n",
    "\n",
    "mpl.rcParams['figure.figsize'] = (fig_sz_x, fig_sz_y)\n",
    "mpl.rcParams['figure.dpi'] = fig_dpi\n",
    "plt.rcParams.update({'font.size':fig_font_size})"
   ]
  },
  {
   "cell_type": "code",
   "execution_count": 13,
   "id": "e1186a2d",
   "metadata": {},
   "outputs": [],
   "source": [
    "# Definimos los parámetros de la simulación para un butterwoth de orden 3\n",
    "Wp=1\n",
    "Ws=2\n",
    "alpha_max=1\n",
    "alpha_min=12\n"
   ]
  },
  {
   "cell_type": "code",
   "execution_count": 14,
   "id": "b4bc1d7c",
   "metadata": {},
   "outputs": [
    {
     "data": {
      "text/plain": [
       "0.5088471399095875"
      ]
     },
     "execution_count": 14,
     "metadata": {},
     "output_type": "execute_result"
    }
   ],
   "source": [
    "eps = np.sqrt(10**(alpha_max/10)-1)\n",
    "eps"
   ]
  },
  {
   "cell_type": "markdown",
   "id": "9e9beeaf",
   "metadata": {},
   "source": [
    "\\begin{equation}n = \\frac{log(10^{\\alpha_{min}/10} - 1) /\\epsilon²)}{2 log(\\omega_s)}\\end{equation}"
   ]
  },
  {
   "cell_type": "code",
   "execution_count": 15,
   "id": "61bf7776",
   "metadata": {},
   "outputs": [
    {
     "data": {
      "text/plain": [
       "3.0"
      ]
     },
     "execution_count": 15,
     "metadata": {},
     "output_type": "execute_result"
    }
   ],
   "source": [
    "n= (np.log((10**(alpha_min/10)-1)/eps**2))/(2*np.log(Ws))\n",
    "n_r=np.round(n)\n",
    "n_r"
   ]
  },
  {
   "cell_type": "markdown",
   "id": "962b56d6",
   "metadata": {},
   "source": [
    "### Cálculo directo de transferencia\n",
    "\\begin{equation} |T(s)|²= \\frac{1/\\epsilon²}{1/\\epsilon²-s⁶}=\\frac{1}{(s³+as²+bs+c)}\\frac{1}{(-s³+as²-bs+c)}=T(s)*T(-s) \\end{equation}\n",
    "\n",
    "\\begin{equation}T(s)= \\frac{2}{s³+2\\sqrt[3]{2}s²+2.2^{2/3}s+2}  \\end{equation}"
   ]
  },
  {
   "cell_type": "code",
   "execution_count": 16,
   "id": "a03208d6",
   "metadata": {},
   "outputs": [
    {
     "data": {
      "text/plain": [
       "2"
      ]
     },
     "execution_count": 16,
     "metadata": {},
     "output_type": "execute_result"
    }
   ],
   "source": [
    "round(1/(eps))"
   ]
  },
  {
   "cell_type": "code",
   "execution_count": 17,
   "id": "8034b17a",
   "metadata": {},
   "outputs": [],
   "source": [
    "#Función transferencia pasabajos: |T(s)|²= T(s)*T(-s)\n",
    "num2_lp = [2]\n",
    "den2_lp = [1,2*2**(1/3),2*2**(2/3),2]\n",
    "\n",
    "Ts = sig.TransferFunction(num2_lp,den2_lp)"
   ]
  },
  {
   "cell_type": "code",
   "execution_count": 18,
   "id": "d1810eef",
   "metadata": {},
   "outputs": [
    {
     "data": {
      "text/plain": [
       "array([-1.25992105+0.j        , -0.62996052+1.09112364j,\n",
       "       -0.62996052-1.09112364j])"
      ]
     },
     "execution_count": 18,
     "metadata": {},
     "output_type": "execute_result"
    }
   ],
   "source": [
    "np.roots(den2_lp)"
   ]
  },
  {
   "cell_type": "code",
   "execution_count": 19,
   "id": "b7ef4423",
   "metadata": {
    "scrolled": false
   },
   "outputs": [
    {
     "ename": "NameError",
     "evalue": "name 'H2' is not defined",
     "output_type": "error",
     "traceback": [
      "\u001b[0;31m---------------------------------------------------------------------------\u001b[0m",
      "\u001b[0;31mNameError\u001b[0m                                 Traceback (most recent call last)",
      "Cell \u001b[0;32mIn[19], line 1\u001b[0m\n\u001b[0;32m----> 1\u001b[0m analyze_sys(\u001b[43mH2\u001b[49m,[\u001b[38;5;124m'\u001b[39m\u001b[38;5;124mCálculo directo\u001b[39m\u001b[38;5;124m'\u001b[39m])\n",
      "\u001b[0;31mNameError\u001b[0m: name 'H2' is not defined"
     ]
    }
   ],
   "source": [
    "analyze_sys(H2,['Cálculo directo'])"
   ]
  },
  {
   "cell_type": "markdown",
   "id": "bc8b1511",
   "metadata": {},
   "source": [
    "## Implementación circuital"
   ]
  },
  {
   "cell_type": "markdown",
   "id": "28cf7c2e",
   "metadata": {},
   "source": [
    "### Implementación con componentes desnormalizados en frecuencia.\n",
    "\n",
    "\n",
    "<img src=\"./Selección_062.png\" align=\"center\" width=\"1200\" /> \n"
   ]
  },
  {
   "cell_type": "markdown",
   "id": "b387e576",
   "metadata": {},
   "source": [
    "### Implementación con capacitores de 100nf.\n",
    "<img src=\"./Selección_063.png\" align=\"center\" width=\"1200\" /> \n"
   ]
  },
  {
   "cell_type": "markdown",
   "id": "9b6bc402",
   "metadata": {},
   "source": [
    "## Implementación del circuito pasivo con resistencias, capacitores y opAmps."
   ]
  },
  {
   "cell_type": "markdown",
   "id": "2cd1a044",
   "metadata": {},
   "source": [
    "La impedancia de entrada del GIC la podemos representar como:\n",
    "\n",
    "\\begin{equation} \n",
    "Z=\\frac{Y_2Y_4}{Y_1Y_3Y_5}\\\\\n",
    "Z=\\frac{G_2G_4}{sC_1sC_3G_5}\\\\\n",
    "Z=\\frac{1}{s²\\frac{C_1C_3G_5}{G_2G_4}}\\\\\n",
    "\\end{equation}\n",
    "\n",
    "Llamamos D al parámetro de interés $Z=\\frac{1}{s²D}$ el cual representa el valor de C que estamos buscando.\n",
    "\n",
    "Si tomando el valor para el capacitor $C=100nf$ y tomando valores convenientes para $C_1$ y $C_3$ y adoptando un valor de $G_5=1/(2M\\Omega)$\n",
    "\n",
    "\\begin{equation}\n",
    "G_2=G_4=G\\\\\n",
    "D=100.10⁹=\\frac{100.10⁹10⁶G_5}{G²}\\\\\n",
    "G=\\sqrt{G_510⁶}\\\\\n",
    "G=\\frac{\\sqrt{2}}{2}\n",
    "\\end{equation}"
   ]
  },
  {
   "cell_type": "code",
   "execution_count": null,
   "id": "ed7592c2",
   "metadata": {},
   "outputs": [],
   "source": [
    "import numpy as np\n",
    "G5 = 1/(2*10**6)\n",
    "G  = np.sqrt(G5*10**6)\n",
    "G"
   ]
  },
  {
   "cell_type": "markdown",
   "id": "f77dc8f0",
   "metadata": {},
   "source": [
    "<img src=\"./goc.png\" align=\"center\" width=\"1200\" /> "
   ]
  },
  {
   "cell_type": "markdown",
   "id": "c6f87909",
   "metadata": {},
   "source": [
    "## Planteo alternativo usando $\\omega_B$"
   ]
  },
  {
   "cell_type": "markdown",
   "id": "65450383",
   "metadata": {},
   "source": [
    "Para el desarrollo de la renormalización de $\\omega_B$:\n",
    "\n",
    "\\begin{equation}\n",
    "|T_n(j\\omega)|²=\\frac{1}{1+\\epsilon^{1/n}(\\omega/\\omega_p)}=\\frac{1}{1+[\\omega/\\epsilon^{-1/n}\\omega_p]}\\\\\n",
    "|T_n(j\\omega)|²=\\frac{1}{1+\\omega/\\omega_b}\\\\\n",
    "\\omega_b=\\epsilon^{-1/n}\\omega_p\n",
    "\\end{equation}\n",
    "\n",
    "A continuación calculamos los parámetros nuevamante $\\epsilon,\\ n\\ y\\ \\omega_b$:"
   ]
  },
  {
   "cell_type": "code",
   "execution_count": null,
   "id": "e9add221",
   "metadata": {},
   "outputs": [],
   "source": [
    "Wp = 1\n",
    "Ws = 2\n",
    "Wb = 0\n",
    "alpha_max = 1\n",
    "alpha_min = 12"
   ]
  },
  {
   "cell_type": "code",
   "execution_count": null,
   "id": "3939b084",
   "metadata": {},
   "outputs": [],
   "source": [
    "eps = np.sqrt(10**(alpha_max/10)-1)\n",
    "eps"
   ]
  },
  {
   "cell_type": "code",
   "execution_count": null,
   "id": "d54574f1",
   "metadata": {},
   "outputs": [],
   "source": [
    "n   = (np.log((10**(alpha_min/10)-1)/eps**2))/(2*np.log(Ws))\n",
    "n_r = np.round(n)\n",
    "n_r"
   ]
  },
  {
   "cell_type": "code",
   "execution_count": null,
   "id": "253338c7",
   "metadata": {},
   "outputs": [],
   "source": [
    "Wb= eps**(-1/n_r)*Wp\n",
    "Wb"
   ]
  },
  {
   "cell_type": "markdown",
   "id": "ed47a6b2",
   "metadata": {},
   "source": [
    "Entonces transferencia del módulo cuadrado nos queda:\n",
    "\n",
    "\\begin{equation}\n",
    "|T_n(j\\omega)|²=\\frac{1}{1+(\\frac{\\omega}{1.260244})}\n",
    "\\end{equation}\n",
    "\n",
    "Y una función transferencia de orden 3 de Butterworth:\n",
    "\n",
    "\\begin{equation}\n",
    "T(s)=\\frac{1}{(s+1)(s+1/2\\pm0.8660254)} = \\frac{1}{(s+1)(s²+s+1)}\n",
    "\\end{equation}"
   ]
  },
  {
   "cell_type": "code",
   "execution_count": null,
   "id": "8452a59b",
   "metadata": {},
   "outputs": [],
   "source": [
    "# Definimos los parámetros de la simulación para un butterwoth de orden 3\n",
    "Wp=1\n",
    "Ws=2\n",
    "alpha_max=1\n",
    "alpha_min=12"
   ]
  },
  {
   "cell_type": "code",
   "execution_count": null,
   "id": "d6a92a79",
   "metadata": {},
   "outputs": [],
   "source": [
    "eps = np.sqrt(10**(alpha_max/10)-1)\n",
    "eps"
   ]
  },
  {
   "cell_type": "code",
   "execution_count": null,
   "id": "51bc4821",
   "metadata": {},
   "outputs": [],
   "source": [
    "n= (np.log((10**(alpha_min/10)-1)/eps**2))/(2*np.log(Ws))\n",
    "n_r=np.round(n)\n",
    "n_r"
   ]
  },
  {
   "cell_type": "code",
   "execution_count": null,
   "id": "d1b4e1ef",
   "metadata": {},
   "outputs": [],
   "source": [
    "#Cargamos la funcion transferencia como vectores de sus coeficientes.\n",
    "\n",
    "#Función transferencia pasabajos máxima planicidad de orden 3. \n",
    "z,p,k = sig.buttap(n_r)\n",
    "num_lp, den_lp = sig.zpk2tf(z,p,k)\n",
    "num_lp_d, den_lp_d = sig.lp2lp(num_lp,den_lp, Wb) \n",
    "\n",
    "H1=sig.TransferFunction(num_lp_d,den_lp_d)"
   ]
  },
  {
   "cell_type": "code",
   "execution_count": null,
   "id": "509fd3a9",
   "metadata": {},
   "outputs": [],
   "source": [
    "analyze_sys(H1,['Butter renormalizado con Wb'])"
   ]
  }
 ],
 "metadata": {
  "kernelspec": {
   "display_name": "Python 3 (ipykernel)",
   "language": "python",
   "name": "python3"
  },
  "language_info": {
   "codemirror_mode": {
    "name": "ipython",
    "version": 3
   },
   "file_extension": ".py",
   "mimetype": "text/x-python",
   "name": "python",
   "nbconvert_exporter": "python",
   "pygments_lexer": "ipython3",
   "version": "3.10.6"
  }
 },
 "nbformat": 4,
 "nbformat_minor": 5
}
