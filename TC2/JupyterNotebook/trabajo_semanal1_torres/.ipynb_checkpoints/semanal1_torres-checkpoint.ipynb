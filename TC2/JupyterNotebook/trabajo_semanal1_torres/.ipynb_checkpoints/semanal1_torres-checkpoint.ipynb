{
 "cells": [
  {
   "cell_type": "markdown",
   "metadata": {},
   "source": [
    "<img src=\"./logo_UTN.svg\" align=\"right\" width=\"150\" /> \n",
    "\n",
    "#### Teoría de Circuitos II\n",
    "\n",
    "#  Trabajo semanal 1\n",
    "#### Autor: Torres Alejandro\n",
    "#### Legajo: 141884-1\n"
   ]
  },
  {
   "cell_type": "markdown",
   "metadata": {},
   "source": [
    "### Circuito\n",
    "\n",
    "<img src=\"./Selección_091.png\" align=\"left\" width=\"500\" /> \n",
    "\n"
   ]
  },
  {
   "cell_type": "markdown",
   "metadata": {},
   "source": [
    "### 1. Obtener la función transferencia $\\frac{V_2}{V_1}$ (módulo,fase,diagrama de polos y ceros)"
   ]
  },
  {
   "cell_type": "code",
   "execution_count": 1,
   "metadata": {
    "scrolled": true
   },
   "outputs": [
    {
     "data": {
      "text/html": [
       "\n",
       "        <iframe\n",
       "            width=\"1000\"\n",
       "            height=\"1000\"\n",
       "            src=\"./trabajo_semanal1.pdf\"\n",
       "            frameborder=\"0\"\n",
       "            allowfullscreen\n",
       "            \n",
       "        ></iframe>\n",
       "        "
      ],
      "text/plain": [
       "<IPython.lib.display.IFrame at 0x7f32b85bf370>"
      ]
     },
     "execution_count": 1,
     "metadata": {},
     "output_type": "execute_result"
    }
   ],
   "source": [
    "from IPython.display import IFrame\n",
    "IFrame(\"./trabajo_semanal1.pdf\", width=1000, height=1000)\n"
   ]
  },
  {
   "cell_type": "markdown",
   "metadata": {},
   "source": [
    "#### Simulación simbólica en SymPy."
   ]
  },
  {
   "cell_type": "code",
   "execution_count": 2,
   "metadata": {},
   "outputs": [
    {
     "name": "stdout",
     "output_type": "stream",
     "text": [
      " Tarea Semanal 1\n"
     ]
    },
    {
     "data": {
      "text/latex": [
       "$\\displaystyle 1 \\frac{s - \\frac{R_{2}}{C_{1} R_{1} R_{3}}}{s + \\frac{1}{C_{1} R_{3}}}$"
      ],
      "text/plain": [
       "1*((s - R2/(C1*R1*R3))/(s + 1/(C1*R3)))"
      ]
     },
     "metadata": {},
     "output_type": "display_data"
    },
    {
     "data": {
      "text/latex": [
       "$\\displaystyle  \\omega_o = \\frac{1}{C_{1} R_{3}}$"
      ],
      "text/plain": [
       "<IPython.core.display.Math object>"
      ]
     },
     "metadata": {},
     "output_type": "display_data"
    }
   ],
   "source": [
    "import sympy as sp\n",
    "from sympy.abc import s\n",
    "from IPython.display import display, Math\n",
    "\n",
    "Vi, Vo, Vx = sp.symbols(\"Vi, Vo, Vx\")\n",
    "G1, G2, Y1, Y2, R3, C1, R1, R2= sp.symbols(\"G1, G2, Y1, Y2, R3, C1, R1, R2\")\n",
    "\n",
    "aa = sp.solve([ \n",
    "                Vx*(Y1+Y2)-Vi*Y1, \n",
    "                Vx*(G1+G2) -Vi*G1 -Vo*G2\n",
    "                ], \n",
    "                [Vi, Vo])\n",
    "\n",
    "transf_func = aa[Vo]/aa[Vi]\n",
    "\n",
    "tf7a = transf_func.subs(Y1, s*C1)\n",
    "tf7a = tf7a.subs(Y2, 1/R3)\n",
    "tf7a = tf7a.subs(G1, 1/R1)\n",
    "tf7a = tf7a.subs(G2, 1/R2)\n",
    "\n",
    "num, den = sp.fraction(sp.simplify(sp.expand(tf7a)))\n",
    "\n",
    "num = sp.Poly(num,s)\n",
    "den = sp.Poly(den,s)\n",
    "\n",
    "k = num.LC() / den.LC()\n",
    "\n",
    "num = num.monic()\n",
    "den = den.monic()\n",
    "\n",
    "den_coeffs = den.all_coeffs()\n",
    "wo = den_coeffs[-1]\n",
    "\n",
    "tf7a_final = sp.Mul(k,num/den, evaluate=False)\n",
    "\n",
    "print(' Tarea Semanal 1')\n",
    "\n",
    "display(tf7a_final)\n",
    "display(Math( r' \\omega_o = ' + sp.latex(wo) ))\n"
   ]
  },
  {
   "cell_type": "markdown",
   "metadata": {},
   "source": [
    "### 2. ¿Qué tipo de filtro es?\n",
    "\n",
    "Es un filtro rotador de fase, el modulo se mantiene constante en 0 dB para todo el espectro de frecuencia.\n",
    "\n",
    "La Fase cambia de 0 a $\\pi$, y en el valor de la fase es la mitad en el valor de $\\omega$ en el polo y el cero"
   ]
  },
  {
   "cell_type": "markdown",
   "metadata": {},
   "source": [
    "### 3. Transferencia normalizada.\n",
    "\\begin{equation}\n",
    "T(s)=\\frac{s-\\frac{1}{C_1R_3}\\frac{R_2}{R_1}}{s+\\frac{1}{C_1R_3}}\\\\\n",
    "\\frac{R_2}{R_1}=1 \\Rightarrow T(s)=\\frac{s-\\frac{1}{C_1R_3}}{s+\\frac{1}{C_1R_3}}\n",
    "\\end{equation}\n",
    "\n",
    "\n",
    "\\begin{equation}\n",
    "T(s)=\\frac{s-\\omega_0}{s+\\omega_0}\\\\\n",
    "\\omega_0=\\frac{1}{C_1R_3}\n",
    "\\end{equation}\n",
    "\n",
    "\\begin{equation}\n",
    "\\omega_0=1 \\Rightarrow \\frac{1}{C_1R_3}=1 \\\\\n",
    "R_3=\\frac{1}{C_1}\n",
    "\\end{equation}\n",
    "\n",
    "La norma de transferencia la tenemos al hacer $\\omega_0$=1.\n",
    "\n",
    "Esa normalización en frecuencia implica una relación en la resistencia $R_3$ del ciruito y la inversa del valor del capacitor $C_1$. Como es restricción, la relación $\\frac{R_2}{R_1}$ si es distinta de 1, mantiene un nivel constante de ganancia en el módulo de la transferencia, al tener $R_2=R_1$ podemos tomar la frecuencia de los polos y ceros como simétricas. "
   ]
  },
  {
   "cell_type": "markdown",
   "metadata": {},
   "source": [
    "### 4. Simulación en python de transferencia normalizada."
   ]
  },
  {
   "cell_type": "code",
   "execution_count": null,
   "metadata": {},
   "outputs": [],
   "source": [
    "# Módulos para Python, algo parecido a los #include de C\n",
    "\n",
    "# módulos numéricos y de funciones científicas\n",
    "import numpy as np\n",
    "from scipy import signal as sig\n",
    "\n",
    "# PyTC2: La librería para TC2\n",
    "from pytc2.sistemas_lineales import bodePlot, pzmap, GroupDelay, analyze_sys"
   ]
  },
  {
   "cell_type": "code",
   "execution_count": null,
   "metadata": {},
   "outputs": [],
   "source": [
    "\n",
    "import matplotlib as mpl\n",
    "from matplotlib import pyplot as plt\n",
    "#%%  Inicialización de librerías\n",
    "# Setup inline graphics: Esto lo hacemos para que el tamaño de la salida, \n",
    "# sea un poco más adecuada al tamaño del documento\n",
    "\n",
    "plt.figure(1)\n",
    "plt.close(1)\n",
    "\n",
    "#%% Esto tiene que ver con cuestiones de presentación de los gráficos,\n",
    "# Podés modificar el ancho y alto de los gráficos que generás\n",
    "fig_sz_x = 13\n",
    "fig_sz_y = 7\n",
    "fig_dpi = 80 # dpi\n",
    "fig_font_size = 16\n",
    "\n",
    "mpl.rcParams['figure.figsize'] = (fig_sz_x, fig_sz_y)\n",
    "mpl.rcParams['figure.dpi'] = fig_dpi\n",
    "plt.rcParams.update({'font.size':fig_font_size})\n"
   ]
  },
  {
   "cell_type": "code",
   "execution_count": null,
   "metadata": {
    "scrolled": false
   },
   "outputs": [],
   "source": [
    "     \n",
    "# Definimos los parámetros de la simulación\n",
    "\n",
    "# Cargamos la funcion transferencia como vectores de sus coeficientes.\n",
    "\n",
    "num = np.array([ 1,-1 ])\n",
    "den = np.array([ 1, 1 ])\n",
    "\n",
    "H1 = sig.TransferFunction( num, den )\n",
    "\n",
    "# Graficamos el diagrama de polos y ceros\n",
    "# Graficamos la respuesta en frecuencia para el modulo y la fase.\n",
    "\n",
    "_, axes_hdl = bodePlot(H1)\n",
    "\n",
    "# para que se vea como uno intuye el módulo. Probar comentar las siguientes 2 líneas\n",
    "plt.sca(axes_hdl[0])\n",
    "plt.ylim([-1,1])\n",
    "\n",
    "plt.gca\n",
    "\n",
    "pzmap(H1)\n",
    "\n",
    "plt.show()\n"
   ]
  },
  {
   "cell_type": "markdown",
   "metadata": {},
   "source": [
    "### 5.Simule el circuito y obtenga la respuesta en frecuencia pedida en 1), para los valores:  R2R1=1; R3=1kΩ y C=1µF\n",
    "\n",
    "#### Se agrega como condición un circuito, una parametrización del valor del capacitor $C_3$ para plotear la variación de la fase."
   ]
  },
  {
   "cell_type": "markdown",
   "metadata": {},
   "source": [
    "<img src=\"./schematic.png\" align=\"left\" width=\"1000\" /> \n",
    "<img src=\"./Selección_119.png\" align=\"left\" width=\"1000\" /> \n"
   ]
  },
  {
   "cell_type": "markdown",
   "metadata": {},
   "source": [
    "### 6. ¿Qué utilidad podría tener este tipo de circuitos?\n",
    "\n",
    "Alterar la fase de una señal, en el dominio de la frecuencia implica un traslada (retraso) temporal. Se puede implementar para modificar una señal de audio, o un ecualizador."
   ]
  }
 ],
 "metadata": {
  "kernelspec": {
   "display_name": "Python 3 (ipykernel)",
   "language": "python",
   "name": "python3"
  },
  "language_info": {
   "codemirror_mode": {
    "name": "ipython",
    "version": 3
   },
   "file_extension": ".py",
   "mimetype": "text/x-python",
   "name": "python",
   "nbconvert_exporter": "python",
   "pygments_lexer": "ipython3",
   "version": "3.8.10"
  }
 },
 "nbformat": 4,
 "nbformat_minor": 2
}
