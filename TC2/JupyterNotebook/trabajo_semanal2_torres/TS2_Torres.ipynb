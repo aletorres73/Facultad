{
 "cells": [
  {
   "cell_type": "markdown",
   "id": "9ea66618",
   "metadata": {},
   "source": [
    "<img src=\"./logo_UTN.svg\" align=\"right\" width=\"250\" /> \n",
    "\n",
    "#### Teoría de Circuitos II\n",
    "\n",
    "#  Trabajo semanal 2\n",
    "#### Autor: Torres Alejandro\n",
    "#### Legajo: 141884-1\n"
   ]
  },
  {
   "cell_type": "markdown",
   "id": "0318a6a7",
   "metadata": {},
   "source": [
    "## Circuito\n",
    "\n",
    "<img src=\"./circuito.png\" align=\"left\" width=\"700\" /> \n"
   ]
  },
  {
   "cell_type": "markdown",
   "id": "59464914",
   "metadata": {},
   "source": [
    "## Consignas de la actividad:\n",
    "\n",
    "👉  Hallar la transferencia T=VoVi en función de ωo y Q\n",
    "\n",
    "👉  Obtener el valor de los componentes del circuito de forma tal que ωo=1 y Q=3\n",
    "\n",
    "👉  Ajustar el valor de R1 de forma tal que |T(0)|=20dB\n",
    "\n",
    "### Bonus:\n",
    "\n",
    "+10 💎 Obtener los valores de la red normalizados en frecuencia e impedancia.\n",
    "\n",
    "+10 🎓 Calcular las sensibilidades  SωoC, SQR2 y SQR3\n",
    "\n",
    "+10 🤯 Recalcular los valores de la red para que cumpla con una transferencia Butterworth.\n",
    "\n",
    "+10  🎸 Cómo podría obtener un circuito pasabanda con los mismos componentes originales y con qué parámetros quedaría diseñado (Ver ejemplo 4.6 en Schaumann).\n",
    "\n",
    "+10  ⚽️ Simulación circuital de todos los experimentos.\n",
    "\n",
    "+10  🍺 Presentación en jupyter notebook"
   ]
  },
  {
   "cell_type": "markdown",
   "id": "652f2c7a",
   "metadata": {},
   "source": [
    "## Desarrollo manuscrito"
   ]
  },
  {
   "cell_type": "code",
   "execution_count": 1,
   "id": "d8ac9bc2",
   "metadata": {
    "scrolled": true
   },
   "outputs": [
    {
     "data": {
      "text/html": [
       "\n",
       "        <iframe\n",
       "            width=\"1000\"\n",
       "            height=\"1000\"\n",
       "            src=\"./semanal2_torres.pdf\"\n",
       "            frameborder=\"0\"\n",
       "            allowfullscreen\n",
       "            \n",
       "        ></iframe>\n",
       "        "
      ],
      "text/plain": [
       "<IPython.lib.display.IFrame at 0x7f3db4027430>"
      ]
     },
     "execution_count": 1,
     "metadata": {},
     "output_type": "execute_result"
    }
   ],
   "source": [
    "from IPython.display import IFrame\n",
    "IFrame(\"./semanal2_torres.pdf\", width=1000, height=1000)"
   ]
  },
  {
   "cell_type": "markdown",
   "id": "261a28fb",
   "metadata": {},
   "source": [
    "### Cálculo de transferencia\n",
    "\n",
    "$$\n",
    "\\begin{align}\n",
    "&V_a(Y_2+Y_c)+V_oY_3=V_iY_1 \\\\\n",
    "&V_aY_3=V_bY_c \\longrightarrow V_a=V_b\\frac{Y_c}{Y_3}\\longrightarrow V_a=V_o\\frac{Y_c}{Y_3}\\\\\n",
    "&V_bY_4=V_oY_4 \\longrightarrow V_o=V_b \\\\ \\\\\n",
    "&V_o[\\frac{Y_cY_2+Y²_c}{Y3}+Y_3]=V_iY_1 \\\\\n",
    "&V_o[\\frac{Y_cY_2+Y²_c+Y_3}{Y3}]=V_iY_1 \\\\\n",
    "&\\frac{V_o}{V_i}=\\frac{Y_3Y_1}{Y²_c+Y_cY_2+Y²_3}\\longrightarrow \n",
    "\\frac{V_o}{V_i}=\\frac{\\frac{1}{R_3R_1}}{s²C²+s\\frac{C}{R_2}+\\frac{1}{R_3²}}\\\\\n",
    "&\\frac{V_o}{V_i}=\\frac{1}{C²R_3R_1} \\frac{1}{s²+s\\frac{1}{CR_2}+\\frac{1}{C²R_3²}}\\\\\n",
    "&\\frac{V_o}{V_i}=\\frac{R_3}{R_1} \\frac{\\frac{1}{C²R_3²}}{s²+s\\frac{1}{CR_2}+\\frac{1}{C²R_3²}}\\\\\n",
    "\\end{align}\n",
    "$$\n"
   ]
  },
  {
   "cell_type": "markdown",
   "id": "fe7d0676",
   "metadata": {},
   "source": [
    "## Simulación Simbólica"
   ]
  },
  {
   "cell_type": "code",
   "execution_count": 2,
   "id": "7aa929a2",
   "metadata": {},
   "outputs": [],
   "source": [
    "import sympy as sp\n",
    "from sympy.abc import s\n",
    "from IPython.display import display, Math"
   ]
  },
  {
   "cell_type": "code",
   "execution_count": 3,
   "id": "10fbf2b7",
   "metadata": {},
   "outputs": [],
   "source": [
    "Vi, Vo, Va, Vb     = sp.symbols(\"Vi, Vo, Va,Vb \")\n",
    "Y1, Y2, Y3, Y4, Yc, R1, R2, R3, R4, C = sp.symbols(\"Y1, Y2, Y3, Y4, Yc, R1, R2, R3, R4, C\")"
   ]
  },
  {
   "cell_type": "code",
   "execution_count": 4,
   "id": "3ea37284",
   "metadata": {},
   "outputs": [],
   "source": [
    "aa = sp.solve([ \n",
    "                Va*(Y2+Yc)+Vo*Y3-Vi*Y1, \n",
    "                Va*Y3 -Vb*Yc,\n",
    "                Vb*Y4-Vo*Y4\n",
    "                ], \n",
    "                [Vo, Va, Vi])\n"
   ]
  },
  {
   "cell_type": "code",
   "execution_count": 5,
   "id": "ba837ef8",
   "metadata": {},
   "outputs": [
    {
     "data": {
      "text/plain": [
       "{Vo: Vb, Va: Vb*Yc/Y3, Vi: (Vb*Y2*Yc + Vb*Y3**2 + Vb*Yc**2)/(Y1*Y3)}"
      ]
     },
     "execution_count": 5,
     "metadata": {},
     "output_type": "execute_result"
    }
   ],
   "source": [
    "aa"
   ]
  },
  {
   "cell_type": "code",
   "execution_count": 6,
   "id": "ca3cc896",
   "metadata": {},
   "outputs": [
    {
     "data": {
      "text/latex": [
       "$\\displaystyle \\frac{Vb Y_{1} Y_{3}}{Vb Y_{2} Yc + Vb Y_{3}^{2} + Vb Yc^{2}}$"
      ],
      "text/plain": [
       "Vb*Y1*Y3/(Vb*Y2*Yc + Vb*Y3**2 + Vb*Yc**2)"
      ]
     },
     "execution_count": 6,
     "metadata": {},
     "output_type": "execute_result"
    }
   ],
   "source": [
    "transf_func = aa[Vo]/aa[Vi]\n",
    "\n",
    "transf_func"
   ]
  },
  {
   "cell_type": "code",
   "execution_count": 7,
   "id": "dd493c0f",
   "metadata": {},
   "outputs": [
    {
     "data": {
      "text/latex": [
       "$\\displaystyle \\frac{Y_{1} Y_{3}}{Y_{2} Yc + Y_{3}^{2} + Yc^{2}}$"
      ],
      "text/plain": [
       "Y1*Y3/(Y2*Yc + Y3**2 + Yc**2)"
      ]
     },
     "execution_count": 7,
     "metadata": {},
     "output_type": "execute_result"
    }
   ],
   "source": [
    "transf_func = sp.simplify(transf_func)\n",
    "transf_func"
   ]
  },
  {
   "cell_type": "code",
   "execution_count": 8,
   "id": "8dd14c96",
   "metadata": {},
   "outputs": [
    {
     "data": {
      "text/latex": [
       "$\\displaystyle \\frac{1}{R_{1} R_{3} \\left(C^{2} s^{2} + \\frac{C s}{R_{2}} + \\frac{1}{R_{3}^{2}}\\right)}$"
      ],
      "text/plain": [
       "1/(R1*R3*(C**2*s**2 + C*s/R2 + R3**(-2)))"
      ]
     },
     "execution_count": 8,
     "metadata": {},
     "output_type": "execute_result"
    }
   ],
   "source": [
    "tf7a = transf_func.subs(Y1, 1/R1)\n",
    "tf7a = tf7a.subs(Y3, 1/R3)\n",
    "tf7a = tf7a.subs(Y2, 1/R2)\n",
    "tf7a = tf7a.subs(Yc, s*C)\n",
    "tf7a = tf7a.subs(Y4, 1/R4)\n",
    "\n",
    "tf7a"
   ]
  },
  {
   "cell_type": "code",
   "execution_count": 9,
   "id": "2ae3df28",
   "metadata": {},
   "outputs": [
    {
     "data": {
      "text/latex": [
       "$\\displaystyle \\frac{1}{C^{2} R_{1} R_{3} s^{2} + \\frac{C R_{1} R_{3} s}{R_{2}} + \\frac{R_{1}}{R_{3}}}$"
      ],
      "text/plain": [
       "1/(C**2*R1*R3*s**2 + C*R1*R3*s/R2 + R1/R3)"
      ]
     },
     "execution_count": 9,
     "metadata": {},
     "output_type": "execute_result"
    }
   ],
   "source": [
    "sp.expand(tf7a)"
   ]
  },
  {
   "cell_type": "code",
   "execution_count": 10,
   "id": "5649500f",
   "metadata": {},
   "outputs": [
    {
     "data": {
      "text/latex": [
       "$\\displaystyle \\frac{R_{2} R_{3}}{R_{1} \\left(C^{2} R_{2} R_{3}^{2} s^{2} + C R_{3}^{2} s + R_{2}\\right)}$"
      ],
      "text/plain": [
       "R2*R3/(R1*(C**2*R2*R3**2*s**2 + C*R3**2*s + R2))"
      ]
     },
     "execution_count": 10,
     "metadata": {},
     "output_type": "execute_result"
    }
   ],
   "source": [
    "sp.simplify(sp.expand(tf7a))"
   ]
  },
  {
   "cell_type": "code",
   "execution_count": 11,
   "id": "09587559",
   "metadata": {},
   "outputs": [],
   "source": [
    "num, den =sp.fraction(sp.simplify(sp.expand(tf7a))) "
   ]
  },
  {
   "cell_type": "code",
   "execution_count": 12,
   "id": "5296a78c",
   "metadata": {},
   "outputs": [
    {
     "data": {
      "text/latex": [
       "$\\displaystyle R_{2} R_{3}$"
      ],
      "text/plain": [
       "R2*R3"
      ]
     },
     "execution_count": 12,
     "metadata": {},
     "output_type": "execute_result"
    }
   ],
   "source": [
    "num"
   ]
  },
  {
   "cell_type": "code",
   "execution_count": 13,
   "id": "15c23534",
   "metadata": {},
   "outputs": [
    {
     "data": {
      "text/latex": [
       "$\\displaystyle R_{1} \\left(C^{2} R_{2} R_{3}^{2} s^{2} + C R_{3}^{2} s + R_{2}\\right)$"
      ],
      "text/plain": [
       "R1*(C**2*R2*R3**2*s**2 + C*R3**2*s + R2)"
      ]
     },
     "execution_count": 13,
     "metadata": {},
     "output_type": "execute_result"
    }
   ],
   "source": [
    "den"
   ]
  },
  {
   "cell_type": "code",
   "execution_count": 14,
   "id": "33b60182",
   "metadata": {},
   "outputs": [
    {
     "data": {
      "text/latex": [
       "$\\displaystyle \\frac{1}{C^{2} R_{1} R_{3}}$"
      ],
      "text/plain": [
       "1/(C**2*R1*R3)"
      ]
     },
     "execution_count": 14,
     "metadata": {},
     "output_type": "execute_result"
    }
   ],
   "source": [
    "num = sp.poly(num,s)\n",
    "den = sp.poly(den,s)\n",
    "k = num.LC()/den.LC()\n",
    "k"
   ]
  },
  {
   "cell_type": "code",
   "execution_count": 15,
   "id": "a092b9bb",
   "metadata": {},
   "outputs": [
    {
     "data": {
      "text/latex": [
       "$\\displaystyle \\frac{1}{C^{2} R_{1} R_{3}} \\frac{R_{2} R_{3}}{C^{2} R_{1} R_{2} R_{3}^{2} s^{2} + C R_{1} R_{3}^{2} s + R_{1} R_{2}}$"
      ],
      "text/plain": [
       "(1/(C**2*R1*R3))*(R2*R3/(C**2*R1*R2*R3**2*s**2 + C*R1*R3**2*s + R1*R2))"
      ]
     },
     "execution_count": 15,
     "metadata": {},
     "output_type": "execute_result"
    }
   ],
   "source": [
    "den_coeffs = den.all_coeffs()\n",
    "wo = den_coeffs[-1]\n",
    "\n",
    "tf7a_final = sp.Mul(k,num/den, evaluate=False)\n",
    "tf7a_final"
   ]
  },
  {
   "cell_type": "markdown",
   "id": "3bf0cca4",
   "metadata": {},
   "source": [
    "## Simulaciónes"
   ]
  },
  {
   "cell_type": "markdown",
   "id": "51f8c6e0",
   "metadata": {},
   "source": [
    "### Simulación en python\n"
   ]
  },
  {
   "cell_type": "code",
   "execution_count": 16,
   "id": "a497c166",
   "metadata": {},
   "outputs": [],
   "source": [
    "# módulos numéricos y de funciones científicas\n",
    "import numpy as np\n",
    "from scipy import signal as sig\n",
    "\n",
    "# PyTC2: La librería para TC2\n",
    "from pytc2.sistemas_lineales import bodePlot, pzmap, GroupDelay, analyze_sys"
   ]
  },
  {
   "cell_type": "code",
   "execution_count": 17,
   "id": "00dbe82a",
   "metadata": {},
   "outputs": [],
   "source": [
    "\n",
    "import matplotlib as mpl\n",
    "from matplotlib import pyplot as plt\n",
    "#%%  Inicialización de librerías\n",
    "# Setup inline graphics: Esto lo hacemos para que el tamaño de la salida, \n",
    "# sea un poco más adecuada al tamaño del documento\n",
    "\n",
    "plt.figure(1)\n",
    "plt.close(1)\n",
    "\n",
    "fig_sz_x = 13\n",
    "fig_sz_y = 7\n",
    "fig_dpi = 80 # dpi\n",
    "fig_font_size = 16\n",
    "\n",
    "mpl.rcParams['figure.figsize'] = (fig_sz_x, fig_sz_y)\n",
    "mpl.rcParams['figure.dpi'] = fig_dpi\n",
    "plt.rcParams.update({'font.size':fig_font_size})"
   ]
  },
  {
   "cell_type": "code",
   "execution_count": 18,
   "id": "8ec046ae",
   "metadata": {},
   "outputs": [],
   "source": [
    "# Definimos los parámetros de la simulación\n",
    "w0 = 1\n",
    "K  = 10\n",
    "Q  = 3\n",
    "R3 = 1\n",
    "\n",
    "R1 = R3/K\n",
    "R2 = Q * R3\n",
    "C  = 1 / (w0*R3)"
   ]
  },
  {
   "cell_type": "code",
   "execution_count": 19,
   "id": "03787143",
   "metadata": {},
   "outputs": [
    {
     "data": {
      "text/plain": [
       "TransferFunctionContinuous(\n",
       "array([10.]),\n",
       "array([1.        , 0.33333333, 1.        ]),\n",
       "dt: None\n",
       ")"
      ]
     },
     "execution_count": 19,
     "metadata": {},
     "output_type": "execute_result"
    }
   ],
   "source": [
    "# Cargamos la funcion transferencia como vectores de sus coeficientes.\n",
    "num = np.array([ K/(C**2 * R3**2) ])\n",
    "den = np.array([ 1, 1/(C*R2) , 1/(C**2*R3**2) ])\n",
    "\n",
    "H1 = sig.TransferFunction( num, den )\n",
    "H1"
   ]
  },
  {
   "cell_type": "code",
   "execution_count": 20,
   "id": "00170afd",
   "metadata": {
    "scrolled": false
   },
   "outputs": [
    {
     "data": {
      "image/png": "[encoded data removed]",
      "text/plain": [
       "<Figure size 1040x560 with 2 Axes>"
      ]
     },
     "metadata": {},
     "output_type": "display_data"
    },
    {
     "data": {
      "image/png": "[encoded data removed]",
      "text/plain": [
       "<Figure size 1040x560 with 1 Axes>"
      ]
     },
     "metadata": {},
     "output_type": "display_data"
    }
   ],
   "source": [
    "# Graficamos el diagrama de polos y ceros\n",
    "# Graficamos la respuesta en frecuencia para el modulo y la fase.\n",
    "\n",
    "_, axes_hdl = bodePlot(H1)\n",
    "\n",
    "plt.sca(axes_hdl[0])\n",
    "##plt.ylim([-1,1])\n",
    "\n",
    "plt.gca\n",
    "\n",
    "pzmap(H1)\n",
    "\n",
    "plt.show()"
   ]
  },
  {
   "cell_type": "markdown",
   "id": "79d4b1d8",
   "metadata": {},
   "source": [
    "## Simulaciones circuitales"
   ]
  },
  {
   "cell_type": "markdown",
   "id": "3af075ec",
   "metadata": {},
   "source": [
    "### Circuito Ackerberg-Mosberg pasabajos normalizado a $R_3=1$ , $W_0=1$, $Q=3$\n",
    "#### Esquema eléctrico\n",
    "<img src=\"./Selección_031.png\" align=\"center\" width=\"1000\" /> \n",
    "\n",
    "\n",
    "#### Simulación en frecuencia\n",
    "<img src=\"./Selección_032.png\" align=\"center\" width=\"1000\" /> "
   ]
  },
  {
   "cell_type": "markdown",
   "id": "9364f168",
   "metadata": {},
   "source": [
    "### Circuito Ackerberg-Mosberg pasabanda normalizado a $R_3=1$ , $\\omega_0=1$, $Q=3$\n",
    "#### Esquema eléctrico\n",
    "<img src=\"./Selección_035.png\" align=\"center\" width=\"1000\" /> \n",
    "\n",
    "\n",
    "#### Simulación en frecuencia\n",
    "<img src=\"./Selección_pasband.png\" align=\"center\" width=\"1000\" /> \n",
    "\n",
    "#### Simulación barrido en frecuencia de $\\omega_0$\n",
    "<img src=\"./Selección_033.png\" align=\"center\" width=\"1000\" /> "
   ]
  },
  {
   "cell_type": "markdown",
   "id": "3031e5fb",
   "metadata": {},
   "source": [
    "### Circuito Ackerberg-Mosberg pasabajos recalculado a una red de Butterworth\n",
    "#### Esquema eléctrico\n",
    "<img src=\"./Selección_buttr.png\" align=\"center\" width=\"1000\" /> \n",
    "\n",
    "#### Simulación en frecuencia\n",
    "<img src=\"./Selección_butter2.png\" align=\"center\" width=\"1000\" /> \n"
   ]
  }
 ],
 "metadata": {
  "kernelspec": {
   "display_name": "Python 3 (ipykernel)",
   "language": "python",
   "name": "python3"
  },
  "language_info": {
   "codemirror_mode": {
    "name": "ipython",
    "version": 3
   },
   "file_extension": ".py",
   "mimetype": "text/x-python",
   "name": "python",
   "nbconvert_exporter": "python",
   "pygments_lexer": "ipython3",
   "version": "3.8.10"
  }
 },
 "nbformat": 4,
 "nbformat_minor": 5
}
